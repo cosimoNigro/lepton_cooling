{
 "cells": [
  {
   "cell_type": "markdown",
   "metadata": {},
   "source": [
    "# Simplified Cooling of electrons"
   ]
  },
  {
   "cell_type": "code",
   "execution_count": 1,
   "metadata": {},
   "outputs": [],
   "source": [
    "import numpy as np\n",
    "import astropy.units as u\n",
    "import astropy.constants as const\n",
    "import matplotlib.pyplot as plt\n",
    "from scipy.sparse import diags\n",
    "from matplotlib import cycler, rcParams"
   ]
  },
  {
   "cell_type": "code",
   "execution_count": 2,
   "metadata": {},
   "outputs": [],
   "source": [
    "def _power_law(gamma, k_e, p, gamma_min, gamma_max):\n",
    "    \"\"\" Simple power law, taking the units of normalisation k_e  \n",
    "    \n",
    "    Parameters\n",
    "    ----------\n",
    "    k_e : `~astropy.units.Quantity`\n",
    "        power law normalsiation [cm-3] [cm-3 s-1]\n",
    "    gamma : `array_like`\n",
    "        array of electrons Lorentz factor\n",
    "    p : `float`\n",
    "        (positive) spectral index, converted to negative in the function\n",
    "    gamma_min, gamma_max : `float`\n",
    "        minimum and maximum Lorentz factor of the power law\n",
    "    \"\"\"\n",
    "    pwl = np.power(gamma, -p)\n",
    "    null_condition = (gamma_min <= gamma) * (gamma <= gamma_max)\n",
    "    pwl[~null_condition] = 0\n",
    "    return k_e * pwl"
   ]
  },
  {
   "cell_type": "markdown",
   "metadata": {},
   "source": [
    "Let us follow [Chiaberge and Ghisellini (1998)](https://arxiv.org/abs/astro-ph/9810263) for the time evolution:\n",
    "\n",
    "$$\\frac{\\partial N(\\gamma, t)}{\\partial t} = \n",
    "\\frac{\\partial }{\\partial \\gamma} \\left[ \\dot{\\gamma}(\\gamma, t) N(\\gamma, t) \\right]\n",
    "+ Q(\\gamma, t) - \\frac{N(\\gamma,t)}{t_{\\rm esc}}.$$\n",
    "\n",
    "consider the energy losses:\n",
    "\n",
    "$$\\dot{\\gamma} = \\frac{4}{3} \\frac{c\\sigma_T}{m_e c^2} \\left[ U_B + U_{\\rm rad}(\\gamma, t) \\right]\\gamma^2,$$\n",
    "\n",
    "FSRQs are Compton dominated: $U_{\\rm rad} \\approx U_{\\rm Comp.\\,target}$ and since we know the blob is outside the BLR and the inverse Compton is dominated by the torus: $U_{\\rm rad} \\approx U_{\\rm Torus}$, the energy loss formula simplifies to\n",
    "$$\\dot{\\gamma} = \\frac{4}{3} \\frac{c\\sigma_T}{m_e c^2} \\left[ U_B + U_{\\rm Torus}\\right]\\gamma^2,$$\n",
    "Here we have assumed Compton scattering is happening in Thomson regime.\n",
    "\n",
    "We can estimate $U_{\\rm Torus}$ from the energy density of the target fields depicted in the [MAGIC paper reporting the 2012 active state](https://arxiv.org/abs/1401.5646#)\n",
    "\n",
    "<img src=\"u.png\" width=\"400\">\n",
    "\n",
    "being for this flare the emitting region $r>2\\times10^{17}\\,{\\rm cm}$, the blob sits outside the BLR but within the Torus, from the picture $U_{\\rm Torus} = 0.1\\,{\\rm erg}\\,{\\rm cm^{-3}}$. In the [MAGIC paper reporting the 2015 flares](https://arxiv.org/pdf/1610.09416.pdf) and in the [MAGIC paper reporting the low gamma-ray state](https://arxiv.org/abs/1806.05367) a magnetic field of $B\\approx 0.3\\,{\\rm G}$ was used for the modelling, this imply $U_B = 3 \\times 10^{-3}\\,{\\rm erg}\\,{\\rm cm}^{-3}$."
   ]
  },
  {
   "cell_type": "code",
   "execution_count": 3,
   "metadata": {},
   "outputs": [],
   "source": [
    "def gamma_loss(gamma, U_B = 3e-3*u.Unit(\"erg cm-3\"), U_rad = 0.1*u.Unit(\"erg cm-3\")):\n",
    "    prefactor = (4 * const.c * const.sigma_T) / (3 * const.m_e * const.c * const.c)\n",
    "    value = prefactor * (U_B + U_rad) * np.power(gamma, 2)\n",
    "    return -value.to(\"s-1\")"
   ]
  },
  {
   "cell_type": "code",
   "execution_count": 4,
   "metadata": {},
   "outputs": [
    {
     "data": {
      "image/png": "[encoded data removed]",
      "text/plain": [
       "<Figure size 432x288 with 1 Axes>"
      ]
     },
     "metadata": {
      "needs_background": "light"
     },
     "output_type": "display_data"
    }
   ],
   "source": [
    "# plot the energy losses\n",
    "gamma = np.logspace(1, 5, 100)\n",
    "plt.semilogx(gamma, gamma_loss(gamma), lw=2, color=\"k\")\n",
    "plt.xlabel(r\"$\\gamma$\", fontsize=12)\n",
    "plt.ylabel(r\"$\\dot{\\gamma}\\,/\\,{\\rm s}^{-1}}$\", fontsize=12)\n",
    "plt.show()"
   ]
  },
  {
   "cell_type": "markdown",
   "metadata": {},
   "source": [
    "Here I define a class to solve the time evolution equation, following Eq. 6 - 11 in [Chiaberge and Ghisellini (1998)](https://arxiv.org/abs/astro-ph/9810263)"
   ]
  },
  {
   "cell_type": "code",
   "execution_count": 5,
   "metadata": {},
   "outputs": [],
   "source": [
    "class ChangCooperSolver:\n",
    "    def __init__(self, gamma_min, gamma_max, n_gamma, t_max_ev, n_t, t_max_inj, t_esc, injection_dict):\n",
    "        \"\"\"class implementing the Chang and Cooper scheme in Chaiberge and Ghisellini (1998):\n",
    "        \n",
    "        Parameters\n",
    "        ----------\n",
    "        gamma_min : float \n",
    "            minimum Lorentz factor of the electorn distribution\n",
    "        gamma_max : float\n",
    "            maximum Lorentz factor of the electron distribution\n",
    "        n_gamma : int\n",
    "            number of steps in the Lorentz factor grid\n",
    "        t_max_ev : `~astropy.Units.Quantity`\n",
    "            maximum time of the evolution\n",
    "        n_t : int\n",
    "            number of time steps\n",
    "        t_max_inj : `~astropy.Units.Quantity`\n",
    "            maximum time of injection    \n",
    "        t_esc : `~astropy.Units.Quantity`\n",
    "            escape time                \n",
    "        injection_dict : dict\n",
    "            dictionary with injection specifications (spectrum and maximum injection time)\n",
    "        \"\"\"\n",
    "        self.gamma_min = gamma_min\n",
    "        self.gamma_max = gamma_max\n",
    "        self.n_gamma = n_gamma\n",
    "        _gamma = np.logspace(\n",
    "            np.log10(gamma_min), \n",
    "            np.log10(gamma_max), \n",
    "            n_gamma\n",
    "        )\n",
    "        # $\\gamma_{i \\pm 1/2}$ in Chiaberge et al. (1998) \n",
    "        self.gamma_midpts = _gamma[::2]\n",
    "        # $\\delta gamma_i$ in Chiaberge et al. (1998)\n",
    "        self.delta_gamma = self.gamma_midpts[:-1] - self.gamma_midpts[1:] \n",
    "        # $\\gamma_i$ in Chiaberge et al. (1998)         \n",
    "        self.gamma = _gamma[1:-1:2]\n",
    "        self.t_max_ev = t_max_ev.to(\"s\")\n",
    "        self.n_t = n_t\n",
    "        self.delta_t = self.t_max_ev.to(\"s\") / self.n_t\n",
    "        self.t_max_inj = t_max_inj.to(\"s\")\n",
    "        self.t_esc = t_esc.to(\"s\") \n",
    "        self.injection_dict = injection_dict\n",
    "        \n",
    "        # choose which injection we are using\n",
    "        if self.injection_dict[\"type\"] == \"PowerLaw\":\n",
    "            self.Q = _power_law(self.gamma, **self.injection_dict[\"parameters\"])\n",
    "    \n",
    "    @property\n",
    "    def gamma_dot_midpts(self):\n",
    "        return gamma_loss(self.gamma_midpts)\n",
    "    \n",
    "    @property\n",
    "    def V2(self):\n",
    "        escape_term = (self.delta_t / self.t_esc).decompose().value   \n",
    "        loss_term = (self.delta_t * self.gamma_dot_midpts[:-1]).decompose().value / self.delta_gamma \n",
    "        return 1 + escape_term + loss_term\n",
    "        \n",
    "    @property \n",
    "    def V3(self):\n",
    "        return - (self.delta_t * self.gamma_dot_midpts[1:]).decompose().value / self.delta_gamma\n",
    "          \n",
    "    @property\n",
    "    def chang_cooper_matrix(self):\n",
    "        return diags([self.V2, self.V3], offsets=[0,1]).toarray()\n",
    "    \n",
    "    def run(self):\n",
    "        \"\"\"solve the temporal evolution, return the result at each step\"\"\"\n",
    "        print(\"solving Chang and Cooper equation iteratively!\")\n",
    "        solutions = dict()\n",
    "        elapsed_time = 0 * u.s\n",
    "        # initial electron distributions, suppose it's 0 everywhere at the first step\n",
    "        N_prev = np.zeros(len(self.gamma))\n",
    "        while elapsed_time < self.t_max_ev:\n",
    "            # add the source term only for times before t_max_injection, strip units\n",
    "            if elapsed_time < self.t_max_inj:\n",
    "                N_prev += (self.Q * self.delta_t).to(\"cm-3\").value \n",
    "            # compute electron distribution at next time step, units have been stripped\n",
    "            N_next = np.linalg.solve(self.chang_cooper_matrix, N_prev)\n",
    "            print(\"check correctness of solution...\")\n",
    "            print(np.allclose(np.dot(self.chang_cooper_matrix, N_next), N_prev))\n",
    "            # store solution\n",
    "            solutions[f\"{elapsed_time}\"] = N_next * u.Unit(\"cm-3\")\n",
    "            # the solution becomes the spectrum at the next step\n",
    "            N_prev = N_next\n",
    "            elapsed_time += self.delta_t\n",
    "        return solutions"
   ]
  },
  {
   "cell_type": "markdown",
   "metadata": {},
   "source": [
    "Let us suppose to inject electrons for 50 hours and then to turn the injection off. Let us evolve the system for 100 hours and then assume an escape time much larger than the total evolution time ($t_{\\rm esc}=$ 1000 hours)."
   ]
  },
  {
   "cell_type": "code",
   "execution_count": 6,
   "metadata": {},
   "outputs": [],
   "source": [
    "# parameters with the injection\n",
    "injection_dict = dict(\n",
    "    type = \"PowerLaw\",\n",
    "    parameters = dict(\n",
    "        k_e = 1e4 * u.Unit(\"cm-3 s-1\"),\n",
    "        p = 2.1,\n",
    "        gamma_min = 1,\n",
    "        gamma_max = 1e5\n",
    "    )\n",
    ")\n",
    "cc_solver = ChangCooperSolver(\n",
    "    gamma_min = 1, \n",
    "    gamma_max = 1e6, \n",
    "    n_gamma = 200,\n",
    "    t_max_ev = 100 * u.h,\n",
    "    n_t = 10,\n",
    "    t_max_inj = 50 * u.h,\n",
    "    t_esc = 1000 * u.h,\n",
    "    injection_dict = injection_dict\n",
    ")"
   ]
  },
  {
   "cell_type": "code",
   "execution_count": 7,
   "metadata": {},
   "outputs": [
    {
     "name": "stdout",
     "output_type": "stream",
     "text": [
      "solving Chang and Cooper equation iteratively!\n",
      "check correctness of solution...\n",
      "True\n",
      "check correctness of solution...\n",
      "True\n",
      "check correctness of solution...\n",
      "True\n",
      "check correctness of solution...\n",
      "True\n",
      "check correctness of solution...\n",
      "True\n",
      "check correctness of solution...\n",
      "True\n",
      "check correctness of solution...\n",
      "True\n",
      "check correctness of solution...\n",
      "True\n",
      "check correctness of solution...\n",
      "True\n",
      "check correctness of solution...\n",
      "True\n"
     ]
    }
   ],
   "source": [
    "solutions = cc_solver.run()"
   ]
  },
  {
   "cell_type": "code",
   "execution_count": 8,
   "metadata": {},
   "outputs": [
    {
     "data": {
      "image/png": "[encoded data removed]",
      "text/plain": [
       "<Figure size 432x288 with 1 Axes>"
      ]
     },
     "metadata": {
      "needs_background": "light"
     },
     "output_type": "display_data"
    }
   ],
   "source": [
    "# use crescent coloring\n",
    "cmap = plt.cm.coolwarm\n",
    "n_colors = cc_solver.n_t\n",
    "rcParams[\"axes.prop_cycle\"] = cycler(color=cmap(np.linspace(0, 1, n_colors)))\n",
    "\n",
    "fig, ax = plt.subplots()\n",
    "\n",
    "for key in solutions.keys():\n",
    "    label = u.Quantity(key).to(\"h\") \n",
    "    plt.loglog(\n",
    "        cc_solver.gamma,\n",
    "        np.power(cc_solver.gamma, 2) * solutions[key],\n",
    "        lw=1.5,\n",
    "        label=label\n",
    "    )\n",
    "ax.legend(fontsize=11)\n",
    "ax.set_ylabel(r\"$\\gamma^2 \\, N_e \\, / \\, {\\rm cm}^{-3}$\", fontsize=12)\n",
    "ax.set_xlabel(r\"$\\gamma$\", fontsize=12)\n",
    "ax.annotate(r\"$t_{\\rm max\\;inj}=$\" + str(cc_solver.t_max_inj.to(\"h\")) , (2e4, 5e8), fontsize=12)\n",
    "\"\"\"\n",
    "# reference powerlaw to check spectral index\n",
    "ax.loglog(\n",
    "    cc_solver.gamma,\n",
    "    np.power(cc_solver.gamma, 2) * _power_law(\n",
    "        cc_solver.gamma, \n",
    "        1e18 * u.Unit(\"cm-3\"),\n",
    "        5,\n",
    "        1e3, \n",
    "        1e5\n",
    "    ),\n",
    "    color=\"k\",\n",
    "    ls=\"--\"\n",
    ")\n",
    "\"\"\"\n",
    "plt.show()\n",
    "fig.savefig(\"evolved_spectra.png\")"
   ]
  }
 ],
 "metadata": {
  "kernelspec": {
   "display_name": "Python 3",
   "language": "python",
   "name": "python3"
  },
  "language_info": {
   "codemirror_mode": {
    "name": "ipython",
    "version": 3
   },
   "file_extension": ".py",
   "mimetype": "text/x-python",
   "name": "python",
   "nbconvert_exporter": "python",
   "pygments_lexer": "ipython3",
   "version": "3.7.4"
  }
 },
 "nbformat": 4,
 "nbformat_minor": 2
}
